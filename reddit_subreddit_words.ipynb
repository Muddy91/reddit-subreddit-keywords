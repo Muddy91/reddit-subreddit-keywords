{
 "cells": [
  {
   "cell_type": "markdown",
   "metadata": {},
   "source": [
    "# Reddit Top Words by Subreddit\n",
    "\n",
    "by [Max Woolf](http://minimaxir.com)\n",
    "\n",
    "This notebook is the complement to my blog post [Quantifying and Visualizing the Reddit Hivemind](http://minimaxir.com/2015/10/reddit-topwords/).\n",
    "\n",
    "Note: Code is more hacky than my typical R Jupyter notebooks."
   ]
  },
  {
   "cell_type": "code",
   "execution_count": 1,
   "metadata": {
    "collapsed": false
   },
   "outputs": [
    {
     "name": "stderr",
     "output_type": "stream",
     "text": [
      "\n",
      "Attaching package: ‘dplyr’\n",
      "\n",
      "The following objects are masked from ‘package:stats’:\n",
      "\n",
      "    filter, lag\n",
      "\n",
      "The following objects are masked from ‘package:base’:\n",
      "\n",
      "    intersect, setdiff, setequal, union\n",
      "\n",
      "Registering fonts with R\n",
      "\n",
      "Attaching package: ‘scales’\n",
      "\n",
      "The following objects are masked from ‘package:readr’:\n",
      "\n",
      "    col_factor, col_numeric\n",
      "\n"
     ]
    }
   ],
   "source": [
    "options(warn=-1)\n",
    "\n",
    "# IMPORTANT: This assumes that all packages in \"Rstart.R\" are installed,\n",
    "# and the fonts \"Source Sans Pro\" and \"Open Sans Condensed Bold\" are installed\n",
    "# via extrafont. If ggplot2 charts fail to render, you may need to change/remove the theme call.\n",
    "\n",
    "source(\"Rstart.R\")\n",
    "\n",
    "options(repr.plot.mimetypes = 'image/png', repr.plot.width=4, repr.plot.height=3, repr.plot.res=300)"
   ]
  },
  {
   "cell_type": "markdown",
   "metadata": {},
   "source": [
    "# Load and Process Data\n",
    "\n",
    "Data prequeried from BigQuery for conveience."
   ]
  },
  {
   "cell_type": "code",
   "execution_count": 2,
   "metadata": {
    "collapsed": true
   },
   "outputs": [],
   "source": [
    "df_subreddits <- read_csv(\"subreddit-data.csv\")\n",
    "df_means <- read_csv(\"subreddit-words-mean.csv\")\n",
    "df_medians <- read_csv(\"subreddit-words-median.csv\")"
   ]
  },
  {
   "cell_type": "markdown",
   "metadata": {},
   "source": [
    "Prepare Top 15 subreddits for Top 15 subreddit image."
   ]
  },
  {
   "cell_type": "code",
   "execution_count": 3,
   "metadata": {
    "collapsed": false
   },
   "outputs": [
    {
     "name": "stdout",
     "output_type": "stream",
     "text": [
      " [1] \"AskReddit\"       \"funny\"           \"pics\"            \"AdviceAnimals\"  \n",
      " [5] \"gaming\"          \"videos\"          \"leagueoflegends\" \"trees\"          \n",
      " [9] \"politics\"        \"aww\"             \"WTF\"             \"worldnews\"      \n",
      "[13] \"Music\"           \"news\"            \"technology\"     \n"
     ]
    }
   ],
   "source": [
    "invalid_subreddits <- c(\"reddit.com\", \"Fireteams\", \"POLITIC\")\n",
    "\n",
    "n <- 15\n",
    "\n",
    "subreddits <- df_subreddits$subreddit[1:(n+length(invalid_subreddits))]\n",
    "subreddits <- subreddits[-(which(subreddits %in% invalid_subreddits))]\n",
    "                                         \n",
    "print(subreddits)"
   ]
  },
  {
   "cell_type": "markdown",
   "metadata": {},
   "source": [
    "Filter subreddits into a subset with the 15 subreddits and only 10 out of the 20 words."
   ]
  },
  {
   "cell_type": "code",
   "execution_count": 4,
   "metadata": {
    "collapsed": false
   },
   "outputs": [
    {
     "data": {
      "text/html": [
       "<table>\n",
       "<thead><tr><th></th><th scope=col>subreddit</th><th scope=col>word</th><th scope=col>num_words</th><th scope=col>avg_score</th><th scope=col>lower_95</th><th scope=col>median</th><th scope=col>upper_95</th><th scope=col>score_rank</th></tr></thead>\n",
       "<tbody>\n",
       "\t<tr><th scope=row>1</th><td>AskReddit</td><td>update</td><td>3337</td><td>41.783</td><td>0</td><td>1</td><td>530</td><td>1</td></tr>\n",
       "\t<tr><th scope=row>2</th><td>AskReddit</td><td>flags</td><td>1006</td><td>40.097</td><td>0</td><td>1</td><td>211</td><td>2</td></tr>\n",
       "\t<tr><th scope=row>3</th><td>AskReddit</td><td>unexplained</td><td>1204</td><td>39.81</td><td>0</td><td>1</td><td>164</td><td>3</td></tr>\n",
       "\t<tr><th scope=row>4</th><td>AskReddit</td><td>unsolved</td><td>1042</td><td>38.507</td><td>0</td><td>2</td><td>159</td><td>4</td></tr>\n",
       "\t<tr><th scope=row>5</th><td>AskReddit</td><td>creepiest</td><td>9823</td><td>36.917</td><td>0</td><td>2</td><td>163</td><td>5</td></tr>\n",
       "\t<tr><th scope=row>6</th><td>AskReddit</td><td>hiv</td><td>1056</td><td>35.39</td><td>0</td><td>1</td><td>122</td><td>6</td></tr>\n",
       "\t<tr><th scope=row>7</th><td>AskReddit</td><td>overlooked</td><td>1256</td><td>34.106</td><td>0</td><td>2</td><td>92</td><td>7</td></tr>\n",
       "\t<tr><th scope=row>8</th><td>AskReddit</td><td>guest</td><td>1542</td><td>30.832</td><td>0</td><td>1</td><td>64</td><td>8</td></tr>\n",
       "\t<tr><th scope=row>9</th><td>AskReddit</td><td>misconception</td><td>2713</td><td>30.721</td><td>0</td><td>2</td><td>206</td><td>9</td></tr>\n",
       "\t<tr><th scope=row>10</th><td>AskReddit</td><td>darkest</td><td>2547</td><td>30.717</td><td>0</td><td>1</td><td>146</td><td>10</td></tr>\n",
       "</tbody>\n",
       "</table>\n"
      ],
      "text/latex": [
       "\\begin{tabular}{r|llllllll}\n",
       "  & subreddit & word & num_words & avg_score & lower_95 & median & upper_95 & score_rank\\\\\n",
       "\\hline\n",
       "\t1 & AskReddit & update & 3337 & 41.783 & 0 & 1 & 530 & 1\\\\\n",
       "\t2 & AskReddit & flags & 1006 & 40.097 & 0 & 1 & 211 & 2\\\\\n",
       "\t3 & AskReddit & unexplained & 1204 & 39.81 & 0 & 1 & 164 & 3\\\\\n",
       "\t4 & AskReddit & unsolved & 1042 & 38.507 & 0 & 2 & 159 & 4\\\\\n",
       "\t5 & AskReddit & creepiest & 9823 & 36.917 & 0 & 2 & 163 & 5\\\\\n",
       "\t6 & AskReddit & hiv & 1056 & 35.39 & 0 & 1 & 122 & 6\\\\\n",
       "\t7 & AskReddit & overlooked & 1256 & 34.106 & 0 & 2 & 92 & 7\\\\\n",
       "\t8 & AskReddit & guest & 1542 & 30.832 & 0 & 1 & 64 & 8\\\\\n",
       "\t9 & AskReddit & misconception & 2713 & 30.721 & 0 & 2 & 206 & 9\\\\\n",
       "\t10 & AskReddit & darkest & 2547 & 30.717 & 0 & 1 & 146 & 10\\\\\n",
       "\\end{tabular}\n"
      ],
      "text/plain": [
       "Source: local data frame [10 x 8]\n",
       "\n",
       "   subreddit          word num_words avg_score lower_95 median upper_95\n",
       "      (fctr)         (chr)     (int)     (dbl)    (int)  (int)    (int)\n",
       "1  AskReddit        update      3337    41.783        0      1      530\n",
       "2  AskReddit         flags      1006    40.097        0      1      211\n",
       "3  AskReddit   unexplained      1204    39.810        0      1      164\n",
       "4  AskReddit      unsolved      1042    38.507        0      2      159\n",
       "5  AskReddit     creepiest      9823    36.917        0      2      163\n",
       "6  AskReddit           hiv      1056    35.390        0      1      122\n",
       "7  AskReddit    overlooked      1256    34.106        0      2       92\n",
       "8  AskReddit         guest      1542    30.832        0      1       64\n",
       "9  AskReddit misconception      2713    30.721        0      2      206\n",
       "10 AskReddit       darkest      2547    30.717        0      1      146\n",
       "Variables not shown: score_rank (int)"
      ]
     },
     "execution_count": 4,
     "metadata": {},
     "output_type": "execute_result"
    },
    {
     "data": {
      "text/html": [
       "'nrows (expected: 15*10): 150'"
      ],
      "text/latex": [
       "'nrows (expected: 15*10): 150'"
      ],
      "text/markdown": [
       "'nrows (expected: 15*10): 150'"
      ],
      "text/plain": [
       "[1] \"nrows (expected: 15*10): 150\""
      ]
     },
     "execution_count": 4,
     "metadata": {},
     "output_type": "execute_result"
    }
   ],
   "source": [
    "df_subset <- df_means %>% filter(subreddit %in% subreddits, score_rank <= 10)\n",
    "df_subset$subreddit <- factor(df_subset$subreddit, levels=subreddits)\n",
    "\n",
    "subreddit_test <- \"AskReddit\"\n",
    "df_subset %>% filter(subreddit==subreddit_test)\n",
    "sprintf(\"nrows (expected: 15*10): %s\", nrow(df_subset))"
   ]
  },
  {
   "cell_type": "markdown",
   "metadata": {},
   "source": [
    "# Preparing the plot\n",
    "\n",
    "Unfortunately, ggplot2 [does not allow free scales for faceting on bar charts](http://stackoverflow.com/questions/16574841/ggplot-0-9-3-issue-with-facet-wrap-free-scales-and-coord-flip-2nd-try), which makes it impossible to use ggplot2 alone. The alternate solution is to plot rhe 15 charts seperately and stich them together.\n",
    "\n",
    "The [multiplot function](http://www.cookbook-r.com/Graphs/Multiple_graphs_on_one_page_%28ggplot2%29/) from Cookbook for R does the trick."
   ]
  },
  {
   "cell_type": "code",
   "execution_count": 5,
   "metadata": {
    "collapsed": false
   },
   "outputs": [],
   "source": [
    "# Multiple plot function\n",
    "#\n",
    "# ggplot objects can be passed in ..., or to plotlist (as a list of ggplot objects)\n",
    "# - cols:   Number of columns in layout\n",
    "# - layout: A matrix specifying the layout. If present, 'cols' is ignored.\n",
    "#\n",
    "# If the layout is something like matrix(c(1,2,3,3), nrow=2, byrow=TRUE),\n",
    "# then plot 1 will go in the upper left, 2 will go in the upper right, and\n",
    "# 3 will go all the way across the bottom.\n",
    "#\n",
    "multiplot <- function(..., plotlist=NULL, file, cols=1, layout=NULL) {\n",
    "  library(grid)\n",
    "\n",
    "  # Make a list from the ... arguments and plotlist\n",
    "  plots <- c(list(...), plotlist)\n",
    "\n",
    "  numPlots = length(plots)\n",
    "\n",
    "  # If layout is NULL, then use 'cols' to determine layout\n",
    "  if (is.null(layout)) {\n",
    "    # Make the panel\n",
    "    # ncol: Number of columns of plots\n",
    "    # nrow: Number of rows needed, calculated from # of cols\n",
    "    layout <- matrix(seq(1, cols * ceiling(numPlots/cols)),\n",
    "                    ncol = cols, nrow = ceiling(numPlots/cols))\n",
    "  }\n",
    "\n",
    " if (numPlots==1) {\n",
    "    print(plots[[1]])\n",
    "\n",
    "  } else {\n",
    "    # Set up the page\n",
    "    grid.newpage()\n",
    "    pushViewport(viewport(layout = grid.layout(nrow(layout), ncol(layout))))\n",
    "\n",
    "    # Make each plot, in the correct location\n",
    "    for (i in 1:numPlots) {\n",
    "      # Get the i,j matrix positions of the regions that contain this subplot\n",
    "      matchidx <- as.data.frame(which(layout == i, arr.ind = TRUE))\n",
    "\n",
    "      print(plots[[i]], vp = viewport(layout.pos.row = matchidx$row,\n",
    "                                      layout.pos.col = matchidx$col))\n",
    "    }\n",
    "  }\n",
    "}"
   ]
  },
  {
   "cell_type": "markdown",
   "metadata": {},
   "source": [
    "Test `multiplot` to make sure it actually works!"
   ]
  },
  {
   "cell_type": "code",
   "execution_count": 6,
   "metadata": {
    "collapsed": false
   },
   "outputs": [
    {
     "data": {
      "text/html": [
       "<strong>pdf:</strong> 2"
      ],
      "text/latex": [
       "\\textbf{pdf:} 2"
      ],
      "text/markdown": [
       "**pdf:** 2"
      ],
      "text/plain": [
       "pdf \n",
       "  2 "
      ]
     },
     "execution_count": 6,
     "metadata": {},
     "output_type": "execute_result"
    }
   ],
   "source": [
    "df_subset_test <- df_subset %>% filter(subreddit==subreddit_test)\n",
    "\n",
    "left_labels <- ifelse(df_subset_test$avg_score > max(df_subset_test$avg_score) * 0.50,\n",
    "                             df_subset_test$avg_score, '')\n",
    "right_labels <- ifelse(df_subset_test$avg_score < max(df_subset_test$avg_score) * 0.50,\n",
    "                             df_subset_test$avg_score, '')\n",
    "\n",
    "plot <- ggplot(df_subset_test, aes(x=word, y=avg_score)) +\n",
    "            geom_bar(stat=\"identity\", fill=\"#3498db\") +\n",
    "            geom_hline(yintercept = (df_subreddits %>% filter(subreddit==subreddit_test))$avg_score, linetype=\"dashed\", alpha=0.8) +\n",
    "            geom_text(label=left_labels, size=2, hjust=1.25, color=\"white\", family=\"Open Sans Condensed Bold\") +\n",
    "            geom_text(label=right_labels, size=2, hjust=-0.25, color=\"#3498db\", family=\"Open Sans Condensed Bold\") +\n",
    "            fte_theme() +\n",
    "            coord_flip() +\n",
    "            scale_y_continuous(labels=comma, breaks=pretty_breaks(6)) +\n",
    "            theme(axis.title.y=element_blank())\n",
    "\n",
    "#max_save(plot, \"AskReddit-test\", \"Reddit\")\n",
    "png(paste(\"AskReddit-test\",\"png\",sep=\".\"),res=300,units=\"in\",width=8,height=3)\n",
    "multiplot(plot, plot, cols=2)\n",
    "dev.off()"
   ]
  },
  {
   "cell_type": "markdown",
   "metadata": {},
   "source": [
    "![](AskReddit-test.png)"
   ]
  },
  {
   "cell_type": "markdown",
   "metadata": {},
   "source": [
    "Store all 15 plots into a list, then pass the list to `multiplot` to plot in a 3x5 matrix, then save."
   ]
  },
  {
   "cell_type": "code",
   "execution_count": 7,
   "metadata": {
    "collapsed": false
   },
   "outputs": [
    {
     "data": {
      "text/html": [
       "<strong>pdf:</strong> 2"
      ],
      "text/latex": [
       "\\textbf{pdf:} 2"
      ],
      "text/markdown": [
       "**pdf:** 2"
      ],
      "text/plain": [
       "pdf \n",
       "  2 "
      ]
     },
     "execution_count": 7,
     "metadata": {},
     "output_type": "execute_result"
    }
   ],
   "source": [
    "plots <- list()\n",
    "\n",
    "for (i in 1:length(subreddits)) {\n",
    "    \n",
    "subreddit_plot <- subreddits[i]\n",
    "\n",
    "df_subset_test <- df_subset %>% filter(subreddit==subreddit_plot)\n",
    "df_subset_test$word <- factor(df_subset_test$word, levels=rev(df_subset_test$word))\n",
    "    \n",
    "\n",
    "left_labels <- ifelse(df_subset_test$avg_score > max(df_subset_test$avg_score) * 0.50,\n",
    "                             sprintf(\"%0.1f\", df_subset_test$avg_score), '')\n",
    "right_labels <- ifelse(df_subset_test$avg_score < max(df_subset_test$avg_score) * 0.50,\n",
    "                             sprintf(\"%0.1f\", df_subset_test$avg_score), '')\n",
    "\n",
    "plots[[i]] <- ggplot(df_subset_test, aes(x=word, y=avg_score)) +\n",
    "            geom_bar(stat=\"identity\", fill=\"#3498db\", alpha=0.85) +\n",
    "            geom_hline(yintercept = (df_subreddits %>% filter(subreddit==subreddit_plot))$avg_score, size=0.25, alpha=0.8) +\n",
    "            geom_text(label=left_labels, size=1.5, hjust=1.25, color=\"white\", family=\"Open Sans Condensed Bold\") +\n",
    "            geom_text(label=right_labels, size=1.5, hjust=-0.25, color=\"#3498db\", family=\"Open Sans Condensed Bold\") +\n",
    "            fte_theme() +\n",
    "            coord_flip() +\n",
    "            scale_y_continuous(labels=comma, breaks=pretty_breaks(6)) +\n",
    "            theme(axis.title.y=element_blank(), axis.title.x=element_blank(), axis.text.y=element_text(size=5), axis.text.x=element_text(size=4), plot.margin = unit(c(0.3,0,0,0), \"cm\")) +\n",
    "            labs(title=subreddit_plot)\n",
    "    \n",
    "}\n",
    "\n",
    "#max_save(plot, \"AskReddit-test\", \"Reddit\")\n",
    "png(paste(\"subreddit-means\",\"png\",sep=\".\"),res=300,units=\"in\",width=8,height=6)\n",
    "multiplot(plotlist=plots, cols=5)\n",
    "dev.off()"
   ]
  },
  {
   "cell_type": "markdown",
   "metadata": {
    "collapsed": true
   },
   "source": [
    "![](subreddit-means.png)"
   ]
  },
  {
   "cell_type": "markdown",
   "metadata": {},
   "source": [
    "Same code, except for the medians."
   ]
  },
  {
   "cell_type": "code",
   "execution_count": 8,
   "metadata": {
    "collapsed": false
   },
   "outputs": [
    {
     "data": {
      "text/html": [
       "<strong>pdf:</strong> 2"
      ],
      "text/latex": [
       "\\textbf{pdf:} 2"
      ],
      "text/markdown": [
       "**pdf:** 2"
      ],
      "text/plain": [
       "pdf \n",
       "  2 "
      ]
     },
     "execution_count": 8,
     "metadata": {},
     "output_type": "execute_result"
    }
   ],
   "source": [
    "df_subset <- df_medians %>% filter(subreddit %in% subreddits, score_rank <= 10)\n",
    "df_subset$subreddit <- factor(df_subset$subreddit, levels=subreddits)\n",
    "\n",
    "plots <- list()\n",
    "\n",
    "for (i in 1:length(subreddits)) {\n",
    "    \n",
    "subreddit_plot <- subreddits[i]\n",
    "\n",
    "df_subset_test <- df_subset %>% filter(subreddit==subreddit_plot)\n",
    "df_subset_test$word <- factor(df_subset_test$word, levels=rev(df_subset_test$word))\n",
    "    \n",
    "\n",
    "left_labels <- ifelse(df_subset_test$median > max(df_subset_test$median) * 0,\n",
    "                             sprintf(\"%0.0f\", df_subset_test$median), '')\n",
    "#right_labels <- ifelse(df_subset_test$median < max(df_subset_test$median) * 0,\n",
    "#                             sprintf(\"%0.0f\", df_subset_test$median), '')\n",
    "\n",
    "plots[[i]] <- ggplot(df_subset_test, aes(x=word, y=median)) +\n",
    "            geom_bar(stat=\"identity\", fill=\"#e74c3c\", alpha=0.85) +\n",
    "            geom_hline(yintercept = (df_subreddits %>% filter(subreddit==subreddit_plot))$median, size=0.25, alpha=0.8) +\n",
    "            geom_text(label=left_labels, size=1.5, hjust=1.75, color=\"white\", family=\"Open Sans Condensed Bold\") +\n",
    "            #geom_text(label=right_labels, size=1.5, hjust=-0.25, color=\"#e74c3c\", family=\"Open Sans Condensed Bold\") +\n",
    "            fte_theme() +\n",
    "            coord_flip() +\n",
    "            scale_y_continuous(labels=comma, breaks=pretty_breaks(6)) +\n",
    "            theme(axis.title.y=element_blank(), axis.title.x=element_blank(), axis.text.y=element_text(size=5), axis.text.x=element_text(size=4), plot.margin = unit(c(0.3,0,0,0), \"cm\")) +\n",
    "            labs(title=subreddit_plot)\n",
    "    \n",
    "}\n",
    "\n",
    "#max_save(plot, \"AskReddit-test\", \"Reddit\")\n",
    "png(paste(\"subreddit-medians\",\"png\",sep=\".\"),res=300,units=\"in\",width=8,height=6)\n",
    "multiplot(plotlist=plots, cols=5)\n",
    "dev.off()"
   ]
  },
  {
   "cell_type": "markdown",
   "metadata": {},
   "source": [
    "![](subreddit-medians.png)"
   ]
  },
  {
   "cell_type": "markdown",
   "metadata": {},
   "source": [
    "Create function for generating charts for a given subreddit. Use different formatting for Means and Medians."
   ]
  },
  {
   "cell_type": "code",
   "execution_count": 9,
   "metadata": {
    "collapsed": false
   },
   "outputs": [],
   "source": [
    "system(\"mkdir -p subreddit-mean\")\n",
    "system(\"mkdir -p subreddit-median\")\n",
    "df_subreddits$rank <- 1:500\n",
    "\n",
    "\n",
    "subreddit_word_chart <- function(subreddit_filter, type) {\n",
    "    \n",
    "truth <- df_subreddits %>% filter(subreddit==subreddit_filter)\n",
    "    \n",
    "if (type==\"mean\") {\n",
    "    df <- df_means %>% filter(subreddit==subreddit_filter)\n",
    "    df$var <- df$avg_score\n",
    "    true_var <- truth$avg_score\n",
    "    fill_color <- \"#3498db\"\n",
    "    caps <- \"Mean\"\n",
    "    #print(df)\n",
    "}\n",
    "else {\n",
    "    df <- df_medians %>% filter(subreddit==subreddit_filter)\n",
    "    df$var <- df$median\n",
    "    true_var <- truth$median\n",
    "    fill_color <- \"#e74c3c\"\n",
    "    caps <- \"Median\"\n",
    "}\n",
    "    \n",
    "df$word <- factor(df$word, levels=rev(df$word))\n",
    "    \n",
    "\n",
    "left_labels <- ifelse(df$var > max(df$var) * 0.30,\n",
    "                             sprintf(\"%0.1f\", df$var), '')\n",
    "right_labels <- ifelse(df$var < max(df$var) * 0.30,\n",
    "                             sprintf(\"%0.1f\", df$var), '')\n",
    "    \n",
    "#print(left_labels)\n",
    "    \n",
    "plot <- ggplot(df, aes(x=word, y=var)) +\n",
    "            geom_bar(stat=\"identity\", fill=fill_color, alpha=0.85) +\n",
    "            geom_hline(yintercept = true_var, size=0.25, alpha=0.8) +\n",
    "            geom_text(label=left_labels, size=1.5, hjust=1.25, color=\"white\", family=\"Open Sans Condensed Bold\") +\n",
    "            geom_text(label=right_labels, size=1.5, hjust=-0.25, color=fill_color, family=\"Open Sans Condensed Bold\") +\n",
    "            fte_theme() +\n",
    "            coord_flip() +\n",
    "            scale_y_continuous(breaks=pretty_breaks(6)) +\n",
    "            theme(axis.title.y=element_blank(), plot.title=element_text(size=7, hjust=0.5)) +\n",
    "            labs(title=sprintf(\"%s Score for Reddit Submissions in /r/%s Containing Keyword\", caps, subreddit_filter), y=sprintf(\"%s Score for Submissions Containing Word\", caps))\n",
    "    \n",
    "    max_save(plot, sprintf(\"subreddit-%s/%s-%03d-%s\", type, type, truth$rank, subreddit_filter), \"Reddit\")\n",
    "}\n",
    "\n",
    "subreddit_word_chart(\"AskReddit\", \"mean\")\n",
    "subreddit_word_chart(\"AskReddit\", \"median\")"
   ]
  },
  {
   "cell_type": "markdown",
   "metadata": {},
   "source": [
    "![](subreddit-mean/mean-002-AskReddit.png)\n",
    "![](subreddit-median/median-002-AskReddit.png)"
   ]
  },
  {
   "cell_type": "code",
   "execution_count": 10,
   "metadata": {
    "collapsed": false
   },
   "outputs": [
    {
     "data": {
      "text/plain": [
       "   user  system elapsed \n",
       "209.022  10.154 232.068 "
      ]
     },
     "execution_count": 10,
     "metadata": {},
     "output_type": "execute_result"
    }
   ],
   "source": [
    "system.time(lapply(df_subreddits$subreddit,subreddit_word_chart, \"mean\"))"
   ]
  },
  {
   "cell_type": "code",
   "execution_count": 11,
   "metadata": {
    "collapsed": false
   },
   "outputs": [
    {
     "data": {
      "text/plain": [
       "   user  system elapsed \n",
       "201.628   8.793 219.278 "
      ]
     },
     "execution_count": 11,
     "metadata": {},
     "output_type": "execute_result"
    }
   ],
   "source": [
    "system.time(lapply(df_subreddits$subreddit,subreddit_word_chart, \"median\"))"
   ]
  }
 ],
 "metadata": {
  "kernelspec": {
   "display_name": "R",
   "language": "R",
   "name": "ir"
  },
  "language_info": {
   "codemirror_mode": "r",
   "file_extension": ".r",
   "mimetype": "text/x-r-source",
   "name": "R",
   "pygments_lexer": "r",
   "version": "3.2.2"
  }
 },
 "nbformat": 4,
 "nbformat_minor": 0
}
